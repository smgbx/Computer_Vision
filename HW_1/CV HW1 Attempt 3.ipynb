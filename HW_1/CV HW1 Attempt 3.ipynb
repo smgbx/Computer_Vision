{
 "cells": [
  {
   "cell_type": "code",
   "execution_count": 1,
   "metadata": {},
   "outputs": [],
   "source": [
    "# https://giusedroid.blogspot.com/2015/04/using-python-and-k-means-in-hsv-color.html\n",
    "%matplotlib inline\n",
    "import cv2\n",
    "from scipy.cluster.vq import vq, kmeans\n",
    "from mpl_toolkits.mplot3d import Axes3D\n",
    "from matplotlib import pyplot as plt\n",
    "import numpy as np\n",
    "from PIL import Image\n",
    "import glob\n",
    "import os, os.path\n",
    "import random\n",
    "from sklearn.utils import shuffle"
   ]
  },
  {
   "cell_type": "markdown",
   "metadata": {},
   "source": [
    "# Get images, get sample pixels, create color table where k = 64"
   ]
  },
  {
   "cell_type": "code",
   "execution_count": 2,
   "metadata": {},
   "outputs": [
    {
     "data": {
      "text/plain": [
       "1500"
      ]
     },
     "execution_count": 2,
     "metadata": {},
     "output_type": "execute_result"
    }
   ],
   "source": [
    "# DONE\n",
    "# https://stackoverflow.com/questions/26392336/importing-images-from-a-directory-python-to-list-or-dictionary\n",
    "# https://stackoverflow.com/questions/30230592/loading-all-images-using-imread-from-a-given-folder/47114735\n",
    "\n",
    "images = []\n",
    "count = 0\n",
    "path = \"C:\\Users\\Shelby\\Desktop\\UMKC\\Academics\\Fall20\\ComputerVision\\NWPU-RESISC45\"\n",
    "for folder in os.listdir(path):\n",
    "    folder_path = os.path.join(path, folder)\n",
    "    for filename in os.listdir(folder_path):\n",
    "        if count < 100:\n",
    "            img = cv2.imread(os.path.join(folder_path, filename))\n",
    "            if img is not None:\n",
    "                hsv_img = cv2.cvtColor(img, cv2.COLOR_RGB2HSV)\n",
    "                images.append(hsv_img) \n",
    "                count += 1\n",
    "        else:\n",
    "            len(images)\n",
    "            count = 0\n",
    "            break\n",
    "\n",
    "len(images)"
   ]
  },
  {
   "cell_type": "code",
   "execution_count": 3,
   "metadata": {},
   "outputs": [
    {
     "data": {
      "text/plain": [
       "(256L, 256L, 3L)"
      ]
     },
     "execution_count": 3,
     "metadata": {},
     "output_type": "execute_result"
    }
   ],
   "source": [
    "images[0].shape"
   ]
  },
  {
   "cell_type": "code",
   "execution_count": 4,
   "metadata": {},
   "outputs": [
    {
     "data": {
      "text/plain": [
       "(65536L, 3L)"
      ]
     },
     "execution_count": 4,
     "metadata": {},
     "output_type": "execute_result"
    }
   ],
   "source": [
    "# DONE\n",
    "\n",
    "flattened_images = []\n",
    "for image in images:\n",
    "    flattened_images.append(image.reshape(-1, 3))\n",
    "\n",
    "flattened_images[0].shape"
   ]
  },
  {
   "cell_type": "code",
   "execution_count": 5,
   "metadata": {},
   "outputs": [
    {
     "data": {
      "text/plain": [
       "array([  94.,   36.,  105.])"
      ]
     },
     "execution_count": 5,
     "metadata": {},
     "output_type": "execute_result"
    }
   ],
   "source": [
    "# DONE\n",
    "# https://stackoverflow.com/questions/38190476/use-of-random-state-parameter-in-sklearn-utils-shuffle\n",
    "# https://scikit-learn.org/stable/auto_examples/cluster/plot_color_quantization.html\n",
    "\n",
    "hsv_train = []\n",
    "for image in flattened_images:\n",
    "    sample = shuffle(image, random_state=0)[:100] # shuffle image matrix, then return first 100 pixels\n",
    "    for pixel in sample:\n",
    "        hsv_train.append(pixel.astype(np.float))\n",
    "\n",
    "len(hsv_train) # = 150,000\n",
    "hsv_train[0] # = 1 x 3 array"
   ]
  },
  {
   "cell_type": "code",
   "execution_count": 10,
   "metadata": {},
   "outputs": [],
   "source": [
    "# GOAL: Take list of randomly selected pixels (hsv_train) and find the COLOR TABLE where k = 64\n",
    "\n",
    "hsv_table,_ = kmeans(hsv_train, 64)"
   ]
  },
  {
   "cell_type": "code",
   "execution_count": 11,
   "metadata": {},
   "outputs": [
    {
     "data": {
      "text/plain": [
       "(3L,)"
      ]
     },
     "execution_count": 11,
     "metadata": {},
     "output_type": "execute_result"
    }
   ],
   "source": [
    "hsv_table[0].shape"
   ]
  },
  {
   "cell_type": "markdown",
   "metadata": {},
   "source": [
    "# Gets histogram for image (bar chart bonus)"
   ]
  },
  {
   "cell_type": "code",
   "execution_count": 12,
   "metadata": {},
   "outputs": [],
   "source": [
    "# for one image at a time\n",
    "# https://stackoverflow.com/questions/43650931/python-alternative-for-calculating-pairwise-distance-between-two-sets-of-2d-poin\n",
    "# https://www.tutorialspoint.com/scipy/scipy_cluster.htm\n",
    "\n",
    "# c = dim, cluster_data = x, codebook = color_bins\n",
    "def getHist(im, color_bins):\n",
    "    cluster_data = im.reshape(-1, 3) # dim should = 3\n",
    "    [n, dim] = cluster_data.shape # data points\n",
    "    [m, dim] = color_bins.shape # bin\n",
    "    \n",
    "    # find nearest bin to colors using Euclidean distance\n",
    "    # increment corresponding bin\n",
    "    # compute distribution\n",
    "        \n",
    "    # https://giusedroid.blogspot.com/2015/04/using-python-and-k-means-in-hsv-color.html\n",
    "    # https://docs.scipy.org/doc/scipy/reference/cluster.vq.html\n",
    "    # vq: assigns codes from a codebook to obervations\n",
    "    # quantizes image; assigns each value into one of the predetermined color bins (clusters)\n",
    "    data,_ = vq(cluster_data[:,0:3], color_bins)\n",
    "    print len(data)\n",
    "    print data\n",
    "    \n",
    "    # calculates the number of elements for each cluster - NOT NECCESSARY\n",
    "    weights = [len(data[data == i]) for i in range(0,64)]\n",
    "    print weights\n",
    "    \n",
    "    print sum(weights)\n",
    "    normalized_weights = []\n",
    "    for weight in weights:\n",
    "        normalized_weights.append(float(weight)/sum(weights))\n",
    "\n",
    "    print normalized_weights\n",
    "    print(sum(normalized_weights))\n",
    "    plt.bar(np.arange(len(normalized_weights)), normalized_weights)\n",
    "    \n",
    "    \n",
    "#     fig = plt.figure()\n",
    "#     ax = plt.axes(projection=\"3d\")\n",
    "#     ax.scatter3D(color_bins[:, 1], color_bins[:, 2], color_bins[:, 3])\n"
   ]
  },
  {
   "cell_type": "code",
   "execution_count": 13,
   "metadata": {},
   "outputs": [
    {
     "name": "stdout",
     "output_type": "stream",
     "text": [
      "65536\n",
      "[54 51 36 ..., 31 31 31]\n",
      "[5236, 0, 345, 13, 4, 79, 27, 418, 658, 26, 0, 0, 3, 12966, 1851, 1253, 9, 393, 0, 0, 871, 1987, 1266, 0, 253, 39, 110, 20, 455, 2897, 2173, 1809, 1264, 107, 224, 227, 5711, 20, 68, 1, 119, 0, 1548, 13745, 833, 1, 0, 10, 0, 91, 133, 1646, 1537, 0, 476, 107, 914, 0, 130, 17, 71, 0, 0, 1375]\n",
      "65536\n",
      "[0.07989501953125, 0.0, 0.0052642822265625, 0.0001983642578125, 6.103515625e-05, 0.0012054443359375, 0.0004119873046875, 0.006378173828125, 0.010040283203125, 0.000396728515625, 0.0, 0.0, 4.57763671875e-05, 0.197845458984375, 0.0282440185546875, 0.0191192626953125, 0.0001373291015625, 0.0059967041015625, 0.0, 0.0, 0.0132904052734375, 0.0303192138671875, 0.019317626953125, 0.0, 0.0038604736328125, 0.0005950927734375, 0.001678466796875, 0.00030517578125, 0.0069427490234375, 0.0442047119140625, 0.0331573486328125, 0.0276031494140625, 0.019287109375, 0.0016326904296875, 0.00341796875, 0.0034637451171875, 0.0871429443359375, 0.00030517578125, 0.00103759765625, 1.52587890625e-05, 0.0018157958984375, 0.0, 0.02362060546875, 0.2097320556640625, 0.0127105712890625, 1.52587890625e-05, 0.0, 0.000152587890625, 0.0, 0.0013885498046875, 0.0020294189453125, 0.025115966796875, 0.0234527587890625, 0.0, 0.00726318359375, 0.0016326904296875, 0.013946533203125, 0.0, 0.001983642578125, 0.0002593994140625, 0.0010833740234375, 0.0, 0.0, 0.0209808349609375]\n",
      "1.0\n"
     ]
    },
    {
     "data": {
      "image/png": "[encoded data removed]",
      "text/plain": [
       "<Figure size 432x288 with 1 Axes>"
      ]
     },
     "metadata": {
      "needs_background": "light"
     },
     "output_type": "display_data"
    }
   ],
   "source": [
    "# selects image and prints bar graph\n",
    "getHist(images[5], hsv_table)"
   ]
  }
 ],
 "metadata": {
  "kernelspec": {
   "display_name": "py2",
   "language": "python",
   "name": "py2"
  },
  "language_info": {
   "codemirror_mode": {
    "name": "ipython",
    "version": 2
   },
   "file_extension": ".py",
   "mimetype": "text/x-python",
   "name": "python",
   "nbconvert_exporter": "python",
   "pygments_lexer": "ipython2",
   "version": "2.7.18"
  }
 },
 "nbformat": 4,
 "nbformat_minor": 4
}
