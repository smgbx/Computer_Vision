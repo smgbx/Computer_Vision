{
 "cells": [
  {
   "cell_type": "code",
   "execution_count": 80,
   "metadata": {},
   "outputs": [],
   "source": [
    "# https://giusedroid.blogspot.com/2015/04/using-python-and-k-means-in-hsv-color.html\n",
    "%matplotlib inline\n",
    "import cv2\n",
    "from scipy.cluster.vq import vq, kmeans\n",
    "from mpl_toolkits.mplot3d import Axes3D\n",
    "from matplotlib import pyplot as plt\n",
    "import numpy as np\n",
    "from PIL import Image\n",
    "import glob\n",
    "import os, os.path\n",
    "import random\n",
    "from sklearn.utils import shuffle"
   ]
  },
  {
   "cell_type": "code",
   "execution_count": 20,
   "metadata": {},
   "outputs": [
    {
     "data": {
      "text/plain": [
       "(333L, 500L, 3L)"
      ]
     },
     "execution_count": 20,
     "metadata": {},
     "output_type": "execute_result"
    }
   ],
   "source": [
    "target_img = 'mountains.jpg'\n",
    "img = cv2.imread(target_img)\n",
    "hsv_image = cv2.cvtColor(img, cv2.COLOR_RGB2HSV)\n",
    "hsv_image.shape"
   ]
  },
  {
   "cell_type": "code",
   "execution_count": 57,
   "metadata": {},
   "outputs": [
    {
     "data": {
      "text/plain": [
       "1500"
      ]
     },
     "execution_count": 57,
     "metadata": {},
     "output_type": "execute_result"
    }
   ],
   "source": [
    "# DONE\n",
    "# https://stackoverflow.com/questions/26392336/importing-images-from-a-directory-python-to-list-or-dictionary\n",
    "# https://stackoverflow.com/questions/30230592/loading-all-images-using-imread-from-a-given-folder/47114735\n",
    "\n",
    "images = []\n",
    "count = 0\n",
    "path = \"C:\\Users\\Shelby\\Desktop\\UMKC\\Academics\\Fall20\\ComputerVision\\NWPU-RESISC45\"\n",
    "for folder in os.listdir(path):\n",
    "    folder_path = os.path.join(path, folder)\n",
    "    for filename in os.listdir(folder_path):\n",
    "        if count < 100:\n",
    "            img = cv2.imread(os.path.join(folder_path, filename))\n",
    "            if img is not None:\n",
    "                hsv_img = cv2.cvtColor(img, cv2.COLOR_RGB2HSV)\n",
    "                images.append(hsv_img) \n",
    "                count += 1\n",
    "        else:\n",
    "            len(images)\n",
    "            count = 0\n",
    "            break\n",
    "\n",
    "len(images)"
   ]
  },
  {
   "cell_type": "code",
   "execution_count": 58,
   "metadata": {},
   "outputs": [
    {
     "data": {
      "text/plain": [
       "(256L, 256L, 3L)"
      ]
     },
     "execution_count": 58,
     "metadata": {},
     "output_type": "execute_result"
    }
   ],
   "source": [
    "images[0].shape"
   ]
  },
  {
   "cell_type": "code",
   "execution_count": 77,
   "metadata": {},
   "outputs": [
    {
     "data": {
      "text/plain": [
       "(65536L, 3L)"
      ]
     },
     "execution_count": 77,
     "metadata": {},
     "output_type": "execute_result"
    }
   ],
   "source": [
    "# DONE\n",
    "\n",
    "flattened_images = []\n",
    "for image in images:\n",
    "    flattened_images.append(image.reshape(-1, 3))\n",
    "\n",
    "flattened_images[0].shape"
   ]
  },
  {
   "cell_type": "code",
   "execution_count": 87,
   "metadata": {},
   "outputs": [
    {
     "data": {
      "text/plain": [
       "array([ 94,  36, 105], dtype=uint8)"
      ]
     },
     "execution_count": 87,
     "metadata": {},
     "output_type": "execute_result"
    }
   ],
   "source": [
    "# DONE\n",
    "# https://stackoverflow.com/questions/38190476/use-of-random-state-parameter-in-sklearn-utils-shuffle\n",
    "# https://scikit-learn.org/stable/auto_examples/cluster/plot_color_quantization.html\n",
    "\n",
    "sample_pixels = []\n",
    "for image in flattened_images:\n",
    "    sample = shuffle(image, random_state=0)[:100] # shuffle image matrix, then return first 100 pixels\n",
    "    for pixel in sample:\n",
    "        sample_pixels.append(pixel)\n",
    "\n",
    "len(sample_pixels) # = 150,000\n",
    "sample_pixels[0] # = 1 x 3 array"
   ]
  },
  {
   "cell_type": "code",
   "execution_count": 4,
   "metadata": {},
   "outputs": [],
   "source": [
    "hue, sat, val = hsv_image[:,:,0], hsv_image[:,:,1], hsv_image[:,:,2]"
   ]
  },
  {
   "cell_type": "code",
   "execution_count": 5,
   "metadata": {},
   "outputs": [
    {
     "data": {
      "image/png": "[encoded data removed]",
      "text/plain": [
       "<Figure size 720x576 with 3 Axes>"
      ]
     },
     "metadata": {
      "needs_background": "light"
     },
     "output_type": "display_data"
    }
   ],
   "source": [
    "plt.figure(figsize=(10,8))\n",
    "\n",
    "plt.subplot(311) # 3 rows, 1 column, next details are for the first cell\n",
    "plt.subplots_adjust(hspace=.5)\n",
    "plt.title(\"Hue\")\n",
    "plt.hist(np.ndarray.flatten(hue), bins = 128)\n",
    "\n",
    "plt.subplot(312)\n",
    "plt.title(\"Saturation\")\n",
    "plt.hist(np.ndarray.flatten(sat), bins = 128)\n",
    "\n",
    "plt.subplot(313)\n",
    "plt.title(\"Value\")\n",
    "plt.hist(np.ndarray.flatten(val), bins = 128)\n",
    "\n",
    "plt.show()"
   ]
  },
  {
   "cell_type": "code",
   "execution_count": 39,
   "metadata": {},
   "outputs": [],
   "source": [
    "from PIL import Image\n",
    "\n"
   ]
  },
  {
   "cell_type": "code",
   "execution_count": null,
   "metadata": {},
   "outputs": [],
   "source": [
    "pixels = []\n",
    "# for class in range(0, 15) of dataset:\n",
    "    # for image in range(0, 100) of class:\n",
    "        # convert each image to hsv\n",
    "        # get 100 random pixels in format h,s,v (h x s x v)\n",
    "        # reshape into n x 3\n",
    "for i in range(0,15):\n",
    "    for j in range(0,100):\n",
    "        class_images = dataset[i][j]\n",
    "    for j in range(0,100):\n",
    "        \n",
    "\n",
    "#hsv_table = kmeans(hsv_train, 64) # data (all colors of data set) -> n x 3, K"
   ]
  },
  {
   "cell_type": "code",
   "execution_count": 38,
   "metadata": {},
   "outputs": [
    {
     "name": "stdout",
     "output_type": "stream",
     "text": [
      "(8L, 4L, 4L) 128\n"
     ]
    },
    {
     "data": {
      "text/plain": [
       "<Figure size 432x288 with 0 Axes>"
      ]
     },
     "metadata": {},
     "output_type": "display_data"
    }
   ],
   "source": [
    "#hist = cv2.calcHist([image], [channels], mask, [bins per channel], [range]\n",
    "hist = cv2.calcHist([hsv_image], [0, 1, 2], None, [8,4,4], [0, 1, 0, 1, 0, 1])\n",
    "plt.figure()\n",
    "print hist.shape, hist.flatten().shape[0]"
   ]
  },
  {
   "cell_type": "code",
   "execution_count": 31,
   "metadata": {},
   "outputs": [],
   "source": [
    "def getColorTable(hsv_image):\n",
    "    #h,w,dim = hsv_image.shape\n",
    "    #cluster_data = hsv_image.reshape(h, dim).astype(float)\n",
    "    cluster_data = np.float32(hsv_image.reshape(-1, 3))\n",
    "    print(cluster_data.shape)\n",
    "    #cluster_data = np.array(cluster_data[:,0:3], dtype=np.double)\n",
    "    #centers, assignments = kmeans(np.array(cluster_data[:,0:3], dtype=np.float), K)\n",
    "    #centers, assignments = kmeans(cluster_data, K)\n",
    "    #print(assignents.shape())\n",
    "    \n",
    "    #data, dist = vq(cluster_data[:, 0:channels], centers)\n",
    "    #weights = [len(data[data == i]) for i in range (0, K)]\n",
    "    \n",
    "    # creates a 4 column matrix in which the first element is the weight and the other three\n",
    "    # represent the h, s and v values for each cluster\n",
    "    #color_rank = np.column_stack((weights, centers))\n",
    "    # sorts by cluster weight\n",
    "    #color_rank = color_rank[np.argsort(color_rank[:,0])]\n",
    "    \n",
    "   # fig = plt.figure()\n",
    "    #ax = Axes3D(fig)\n",
    "    #ax.scatter(assignments(:,1), assignments(:,2), assignments(:,3), '*')\n",
    "    #plt.show()"
   ]
  },
  {
   "cell_type": "code",
   "execution_count": 32,
   "metadata": {},
   "outputs": [
    {
     "name": "stdout",
     "output_type": "stream",
     "text": [
      "(166500L, 3L)\n"
     ]
    }
   ],
   "source": [
    "do_cluster(hsv_image, 64)"
   ]
  },
  {
   "cell_type": "code",
   "execution_count": 21,
   "metadata": {},
   "outputs": [
    {
     "ename": "SyntaxError",
     "evalue": "invalid syntax (<ipython-input-21-c439087f582b>, line 3)",
     "output_type": "error",
     "traceback": [
      "\u001b[1;36m  File \u001b[1;32m\"<ipython-input-21-c439087f582b>\"\u001b[1;36m, line \u001b[1;32m3\u001b[0m\n\u001b[1;33m    ax.scatter(assignments(:,1), assignments(:,2), assignments(:,3), '*')\u001b[0m\n\u001b[1;37m                           ^\u001b[0m\n\u001b[1;31mSyntaxError\u001b[0m\u001b[1;31m:\u001b[0m invalid syntax\n"
     ]
    }
   ],
   "source": [
    "fig = plt.figure()\n",
    "ax = fig.add_subplot(111, projection='3d')\n",
    "ax.scatter(assignments(:,1), assignments(:,2), assignments(:,3), '*')"
   ]
  }
 ],
 "metadata": {
  "kernelspec": {
   "display_name": "py2",
   "language": "python",
   "name": "py2"
  },
  "language_info": {
   "codemirror_mode": {
    "name": "ipython",
    "version": 2
   },
   "file_extension": ".py",
   "mimetype": "text/x-python",
   "name": "python",
   "nbconvert_exporter": "python",
   "pygments_lexer": "ipython2",
   "version": "2.7.18"
  }
 },
 "nbformat": 4,
 "nbformat_minor": 4
}
